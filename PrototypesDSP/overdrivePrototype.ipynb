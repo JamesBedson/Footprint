{
 "cells": [
  {
   "cell_type": "code",
   "execution_count": 1,
   "metadata": {},
   "outputs": [],
   "source": [
    "import numpy as np\n",
    "import overdrivePrototype as OPT   # Add your python class(es)\n",
    "import librosa as lr\n",
    "import matplotlib.pyplot as plt\n",
    "import IPython.display as ipd"
   ]
  },
  {
   "attachments": {},
   "cell_type": "markdown",
   "metadata": {},
   "source": [
    "### Initialising Overdrive"
   ]
  },
  {
   "cell_type": "code",
   "execution_count": 2,
   "metadata": {},
   "outputs": [],
   "source": [
    "overdrive = OPT.Overdrive()\n",
    "\n",
    "overdrive.thresholdInDB      = (1/3)    # threshold for symmetrical soft clipping\n",
    "overdrive.gain       = 6                #dB\n",
    "overdrive.tone            = 0.5         #Hz\n",
    "overdrive.level     = 0.5               #dB"
   ]
  },
  {
   "attachments": {},
   "cell_type": "markdown",
   "metadata": {},
   "source": [
    "### Plotting Static Curve"
   ]
  },
  {
   "cell_type": "code",
   "execution_count": 5,
   "metadata": {},
   "outputs": [
    {
     "ename": "AttributeError",
     "evalue": "'Overdrive' object has no attribute 'threshold'",
     "output_type": "error",
     "traceback": [
      "\u001b[0;31m---------------------------------------------------------------------------\u001b[0m",
      "\u001b[0;31mAttributeError\u001b[0m                            Traceback (most recent call last)",
      "Cell \u001b[0;32mIn[5], line 1\u001b[0m\n\u001b[0;32m----> 1\u001b[0m overdrive\u001b[39m.\u001b[39;49mplotStaticCurve()\n",
      "File \u001b[0;32m~/Documents/GitHub/Footprint/PrototypesDSP/overdrivePrototype.py:81\u001b[0m, in \u001b[0;36mOverdrive.plotStaticCurve\u001b[0;34m(self)\u001b[0m\n\u001b[1;32m     79\u001b[0m numSamples  \u001b[39m=\u001b[39m \u001b[39m100\u001b[39m\n\u001b[1;32m     80\u001b[0m X           \u001b[39m=\u001b[39m np\u001b[39m.\u001b[39mlinspace(\u001b[39m-\u001b[39m\u001b[39m96\u001b[39m, \u001b[39m0\u001b[39m, numSamples)               \u001b[39m# Defining input signal as linear function in log domain\u001b[39;00m\n\u001b[0;32m---> 81\u001b[0m G           \u001b[39m=\u001b[39m \u001b[39mself\u001b[39;49m\u001b[39m.\u001b[39;49mapplyStaticCurve(X)                      \u001b[39m# Obtain log gain values\u001b[39;00m\n\u001b[1;32m     82\u001b[0m Y           \u001b[39m=\u001b[39m X \u001b[39m+\u001b[39m G                                         \u001b[39m# Adding input signal and gain together (log domain - remember?)\u001b[39;00m\n\u001b[1;32m     84\u001b[0m _, ax \u001b[39m=\u001b[39m plt\u001b[39m.\u001b[39msubplots(\u001b[39m1\u001b[39m, \u001b[39m1\u001b[39m)\n",
      "File \u001b[0;32m~/Documents/GitHub/Footprint/PrototypesDSP/overdrivePrototype.py:43\u001b[0m, in \u001b[0;36mOverdrive.applyStaticCurve\u001b[0;34m(self, X)\u001b[0m\n\u001b[1;32m     41\u001b[0m y \u001b[39m=\u001b[39m np\u001b[39m.\u001b[39mzeros(N)\n\u001b[1;32m     42\u001b[0m \u001b[39mfor\u001b[39;00m i \u001b[39min\u001b[39;00m \u001b[39mrange\u001b[39m(N):\n\u001b[0;32m---> 43\u001b[0m     \u001b[39mif\u001b[39;00m \u001b[39mabs\u001b[39m(X[i]) \u001b[39m<\u001b[39m \u001b[39mself\u001b[39;49m\u001b[39m.\u001b[39;49mthreshold:\n\u001b[1;32m     44\u001b[0m         y[i] \u001b[39m=\u001b[39m \u001b[39m2\u001b[39m\u001b[39m*\u001b[39mX[i]\n\u001b[1;32m     45\u001b[0m     \u001b[39mif\u001b[39;00m \u001b[39mabs\u001b[39m(X[i]) \u001b[39m>\u001b[39m\u001b[39m=\u001b[39m \u001b[39mself\u001b[39m\u001b[39m.\u001b[39mthreshold:\n",
      "\u001b[0;31mAttributeError\u001b[0m: 'Overdrive' object has no attribute 'threshold'"
     ]
    }
   ],
   "source": [
    "overdrive.plotStaticCurve()"
   ]
  },
  {
   "attachments": {},
   "cell_type": "markdown",
   "metadata": {},
   "source": [
    "### Loading Audio Files"
   ]
  },
  {
   "cell_type": "code",
   "execution_count": 4,
   "metadata": {},
   "outputs": [],
   "source": [
    "pathToAudio = \"/Users/marina/Documents/Sounds/funkyGuitar1.wav\"  # set path to an audio file\n",
    "\n",
    "sampleRate  = 48000         \n",
    "sampleAudio, sampleRate = lr.load(pathToAudio, sr = sampleRate, mono = True, duration = 10)"
   ]
  },
  {
   "attachments": {},
   "cell_type": "markdown",
   "metadata": {},
   "source": [
    "### Applying Overdrive"
   ]
  },
  {
   "cell_type": "code",
   "execution_count": null,
   "metadata": {},
   "outputs": [
    {
     "ename": "",
     "evalue": "",
     "output_type": "error",
     "traceback": [
      "\u001b[1;31mRunning cells with '/usr/bin/python3' requires the ipykernel package.\n",
      "\u001b[1;31mRun the following command to install 'ipykernel' into the Python environment. \n",
      "\u001b[1;31mCommand: '/usr/bin/python3 -m pip install ipykernel -U --user --force-reinstall'"
     ]
    }
   ],
   "source": [
    "sampleAudioOverdrive   = overdrive.overdrive(sampleAudio, sampleRate)"
   ]
  },
  {
   "cell_type": "code",
   "execution_count": null,
   "metadata": {},
   "outputs": [
    {
     "ename": "",
     "evalue": "",
     "output_type": "error",
     "traceback": [
      "\u001b[1;31mRunning cells with '/usr/bin/python3' requires the ipykernel package.\n",
      "\u001b[1;31mRun the following command to install 'ipykernel' into the Python environment. \n",
      "\u001b[1;31mCommand: '/usr/bin/python3 -m pip install ipykernel -U --user --force-reinstall'"
     ]
    }
   ],
   "source": [
    "plt.figure(figsize = (15, 6))\n",
    "plt.title(\"Original and Overdrive Audio\")\n",
    "plt.plot(sampleAudio, label = \"Original Audio\")\n",
    "plt.plot(sampleAudioOverdrive, label = \"Overdrive Audio\")\n",
    "plt.legend(loc = \"upper right\")"
   ]
  },
  {
   "attachments": {},
   "cell_type": "markdown",
   "metadata": {},
   "source": [
    "*As you can see, the level of the compressed signal may be reduced significantly. Usually, one applies makeup gain to compensate. Maybe a parameter we could add to the pedal ?*"
   ]
  },
  {
   "attachments": {},
   "cell_type": "markdown",
   "metadata": {},
   "source": [
    "# Original Audio"
   ]
  },
  {
   "cell_type": "code",
   "execution_count": null,
   "metadata": {},
   "outputs": [
    {
     "ename": "",
     "evalue": "",
     "output_type": "error",
     "traceback": [
      "\u001b[1;31mRunning cells with '/usr/bin/python3' requires the ipykernel package.\n",
      "\u001b[1;31mRun the following command to install 'ipykernel' into the Python environment. \n",
      "\u001b[1;31mCommand: '/usr/bin/python3 -m pip install ipykernel -U --user --force-reinstall'"
     ]
    }
   ],
   "source": [
    "ipd.Audio(data = sampleAudio, rate = sampleRate)"
   ]
  },
  {
   "cell_type": "code",
   "execution_count": null,
   "metadata": {},
   "outputs": [
    {
     "ename": "",
     "evalue": "",
     "output_type": "error",
     "traceback": [
      "\u001b[1;31mRunning cells with '/usr/bin/python3' requires the ipykernel package.\n",
      "\u001b[1;31mRun the following command to install 'ipykernel' into the Python environment. \n",
      "\u001b[1;31mCommand: '/usr/bin/python3 -m pip install ipykernel -U --user --force-reinstall'"
     ]
    }
   ],
   "source": [
    "ipd.Audio(data = sampleAudioOverdrive, rate = sampleRate)"
   ]
  }
 ],
 "metadata": {
  "kernelspec": {
   "display_name": ".venv",
   "language": "python",
   "name": "python3"
  },
  "language_info": {
   "codemirror_mode": {
    "name": "ipython",
    "version": 3
   },
   "file_extension": ".py",
   "mimetype": "text/x-python",
   "name": "python",
   "nbconvert_exporter": "python",
   "pygments_lexer": "ipython3",
   "version": "3.9.1"
  },
  "orig_nbformat": 4
 },
 "nbformat": 4,
 "nbformat_minor": 2
}
