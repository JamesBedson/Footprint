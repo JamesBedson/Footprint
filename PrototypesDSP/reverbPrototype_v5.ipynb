{
  "nbformat": 4,
  "nbformat_minor": 0,
  "metadata": {
    "colab": {
      "provenance": []
    },
    "kernelspec": {
      "name": "python3",
      "display_name": "Python 3"
    },
    "language_info": {
      "name": "python"
    }
  },
  "cells": [
    {
      "cell_type": "code",
      "source": [
        "!apt install libasound2-dev portaudio19-dev libportaudio2 libportaudiocpp0 ffmpeg\n",
        "!pip install PyAudio"
      ],
      "metadata": {
        "id": "gpEL3ak-BZcX"
      },
      "execution_count": null,
      "outputs": []
    },
    {
      "cell_type": "code",
      "source": [
        "import numpy as np\n",
        "import scipy.io.wavfile\n",
        "import time\n",
        "import pyaudio\n",
        "import IPython.display as ipd\n",
        "\n",
        "# roll array x by k elements\n",
        "# zero out the last k elements of x\n",
        "def roll_zero(x, k):\n",
        "  result = x[k:]\n",
        "  result = np.append(x[k:], np.zeros(k))\n",
        "  return result\n",
        "\n",
        "#zero-padding the signal (0's at the end)\n",
        "def zero_pad(x, k):\n",
        "  return np.append(x, np.zeros(k))\n",
        "\n",
        "# partition impulse response and precompute frequency response for each block\n",
        "def precompute_frequency_responses(h, L, k, num_blocks):\n",
        "  H = np.zeros((num_blocks, L+k)).astype('complex128')\n",
        "  for j in range(num_blocks):\n",
        "    H[j] += np.fft.fft(zero_pad(h[j*k: (j+1)*k], L))\n",
        "  return H"
      ],
      "metadata": {
        "id": "pTHJ623eBAiW"
      },
      "execution_count": 10,
      "outputs": []
    },
    {
      "cell_type": "code",
      "execution_count": 23,
      "metadata": {
        "id": "XTIq80xAA7tR"
      },
      "outputs": [],
      "source": [
        "# Frequency Domain Delay Line\n",
        "# Do Overlap Add in Frequency Domain\n",
        "def fdl(x, h):\n",
        "  L = 2**8 #signal block size\n",
        "  p = len(h)\n",
        "  k = L # ir block size\n",
        "\n",
        "  num_ir_blocks = int(p/k)\n",
        "  num_sig_blocks = int(len(x) / L)\n",
        "\n",
        "  #compute the freq_resp of the IR\n",
        "  H = precompute_frequency_responses(h, L, k, num_ir_blocks)\n",
        "\n",
        "  fdl = np.zeros(2*L*num_ir_blocks).astype('complex128')\n",
        "  output = np.zeros(p+len(x)-1).astype('float64')\n",
        "  out = np.zeros(2*L-1)\n",
        "\n",
        "  for i in range(num_sig_blocks):\n",
        "    input_buffer = x[i*L: (i+1)*L]\n",
        "    spectrum = np.fft.fft(zero_pad(input_buffer, L))\n",
        "    \n",
        "    for j in range(num_ir_blocks):\n",
        "      fdl[j*2*L: (j+1)*2*L] += H[j] * spectrum\n",
        "\n",
        "    out += np.fft.ifft(fdl[:2*L]).real[:2*L-1]\n",
        "    output[i*L:(i+1)*L] += out[:L]\n",
        "    fdl = roll_zero(fdl, 2*L)\n",
        "    out = roll_zero(out, L)\n",
        "\n",
        "  for i in range(1, num_ir_blocks): #process remaining frequency blocks\n",
        "    out += np.fft.ifft(fdl[:2*L]).real[:2*L-1]\n",
        "    output[num_sig_blocks+i*L: num_sig_blocks+(i+1)*L] += out[:L]\n",
        "    out = roll_zero(out, L)\n",
        "    fdl = roll_zero(fdl, 2*L)\n",
        "    \n",
        "  x_zp = zero_pad(x, p-1)\n",
        "  output = amount_verb  * output + x_zp\n",
        "  return output"
      ]
    },
    {
      "cell_type": "code",
      "source": [
        "fs1, guitar = scipy.io.wavfile.read('/content/sample_data/blues_guitar.wav')\n",
        "fs2, reverb = scipy.io.wavfile.read('/content/sample_data/Conic Long Echo Hall.wav')\n",
        "reverb = (reverb.astype('float64') / np.max(reverb))[:,0] #one channel only\n",
        "amount_verb = .9\n",
        "\n",
        "sig4 = fdl(guitar, reverb)"
      ],
      "metadata": {
        "colab": {
          "base_uri": "https://localhost:8080/"
        },
        "id": "ibqLrLw0BI1W",
        "outputId": "81337f1a-14a4-4825-cc62-ed9b8860e074"
      },
      "execution_count": 24,
      "outputs": [
        {
          "output_type": "stream",
          "name": "stderr",
          "text": [
            "<ipython-input-24-fa7dd40bfc1a>:1: WavFileWarning: Chunk (non-data) not understood, skipping it.\n",
            "  fs1, guitar = scipy.io.wavfile.read('/content/sample_data/blues_guitar.wav')\n"
          ]
        }
      ]
    },
    {
      "cell_type": "code",
      "source": [
        "ipd.display(ipd.Audio(data=sig4, rate=fs1))"
      ],
      "metadata": {
        "id": "68EQUdw_B3Mx"
      },
      "execution_count": null,
      "outputs": []
    }
  ]
}