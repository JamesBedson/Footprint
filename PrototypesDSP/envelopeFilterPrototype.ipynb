{
 "cells": [
  {
   "cell_type": "code",
   "execution_count": null,
   "metadata": {},
   "outputs": [],
   "source": [
    "import librosa as lr\n",
    "import envelopeFilterPrototype as EPT\n",
    "import numpy as np\n",
    "import matplotlib.pyplot as plt\n",
    "import IPython.display as ipd\n",
    "import scipy.signal"
   ]
  },
  {
   "attachments": {},
   "cell_type": "markdown",
   "metadata": {},
   "source": [
    "### Initialise Envelope Filter\n"
   ]
  },
  {
   "cell_type": "code",
   "execution_count": null,
   "metadata": {},
   "outputs": [],
   "source": [
    "envelopeFilter              = EPT.EnvelopeFilter()\n",
    "envelopeFilter.q            = 3\n",
    "envelopeFilter.sensitivity  = 1.5 "
   ]
  },
  {
   "cell_type": "code",
   "execution_count": null,
   "metadata": {},
   "outputs": [],
   "source": [
    "pathToAudio = \"guitarLoop2.wav\"\n",
    "input,sr    = lr.load(pathToAudio, mono = True)"
   ]
  },
  {
   "attachments": {},
   "cell_type": "markdown",
   "metadata": {},
   "source": [
    "### Original Audio"
   ]
  },
  {
   "cell_type": "code",
   "execution_count": null,
   "metadata": {},
   "outputs": [],
   "source": [
    "ipd.Audio(data = input, rate = sr)"
   ]
  },
  {
   "cell_type": "code",
   "execution_count": null,
   "metadata": {},
   "outputs": [],
   "source": [
    "output = envelopeFilter.process(x           = input, \n",
    "                                sampleRate  = int(sr))"
   ]
  },
  {
   "attachments": {},
   "cell_type": "markdown",
   "metadata": {},
   "source": [
    "### Plotting Original and Output Audio"
   ]
  },
  {
   "cell_type": "code",
   "execution_count": null,
   "metadata": {},
   "outputs": [],
   "source": [
    "plt.figure(figsize=(15, 8))\n",
    "plt.title(\"Original vs Output Audio: Envelope Filter\")\n",
    "plt.plot(output, label = \"Output Audio (With Envelope Filter)\")\n",
    "plt.plot(input, label = \"Input Audio (Dry)\")\n",
    "plt.legend(loc = \"upper right\");"
   ]
  },
  {
   "cell_type": "code",
   "execution_count": null,
   "metadata": {},
   "outputs": [],
   "source": [
    "ipd.Audio(data = output, rate = sr)"
   ]
  },
  {
   "cell_type": "code",
   "execution_count": null,
   "metadata": {},
   "outputs": [],
   "source": [
    "# Coefficients\n",
    "cutoffFreq  = 2000   # Cutoff Freq varies. Fixing it for a certain value for plot\n",
    "b, a        = envelopeFilter.getLPFCoefficients(sampleRate         = 44100,\n",
    "                                                cutoffFrequency    = cutoffFreq,\n",
    "                                                q                  = envelopeFilter.q)\n",
    "\n",
    "b = b / a[0]\n",
    "a = a / a[0]\n",
    "\n",
    "# Frequency Response\n",
    "w, h        = scipy.signal.freqz(b, a, fs = 44100)\n",
    "h           = np.abs(h)\n",
    "h[h == 0]   = np.finfo(float).eps\n",
    "hLog        = 20 * np.log10(h)\n",
    "\n",
    "# Plot\n",
    "plt.figure(figsize=(15, 8))\n",
    "plt.title(\"Frequency Response Curve w/ Current Envelope Filter Parameters\", fontdict = {\"size\": 16, \"weight\": \"bold\"})\n",
    "plt.grid(True)\n",
    "plt.xlabel(\"Frequency [Hz]\")\n",
    "plt.ylabel(\"Amplitude [dB]\")\n",
    "plt.xticks([200, 1000, 2000, 4000, 10000, 15000, 20000], fontsize = 10)\n",
    "plt.plot(w, hLog);\n"
   ]
  }
 ],
 "metadata": {
  "kernelspec": {
   "display_name": ".venv",
   "language": "python",
   "name": "python3"
  },
  "language_info": {
   "codemirror_mode": {
    "name": "ipython",
    "version": 3
   },
   "file_extension": ".py",
   "mimetype": "text/x-python",
   "name": "python",
   "nbconvert_exporter": "python",
   "pygments_lexer": "ipython3",
   "version": "3.9.16"
  },
  "orig_nbformat": 4
 },
 "nbformat": 4,
 "nbformat_minor": 2
}
